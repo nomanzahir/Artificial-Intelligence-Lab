{
  "nbformat": 4,
  "nbformat_minor": 0,
  "metadata": {
    "colab": {
      "provenance": [],
      "include_colab_link": true
    },
    "kernelspec": {
      "name": "python3",
      "display_name": "Python 3"
    },
    "language_info": {
      "name": "python"
    }
  },
  "cells": [
    {
      "cell_type": "markdown",
      "metadata": {
        "id": "view-in-github",
        "colab_type": "text"
      },
      "source": [
        "<a href=\"https://colab.research.google.com/github/nomanzahir/Artificial-Intelligence-Lab/blob/main/lab%204.5/Lab4%265.ipynb\" target=\"_parent\"><img src=\"https://colab.research.google.com/assets/colab-badge.svg\" alt=\"Open In Colab\"/></a>"
      ]
    },
    {
      "cell_type": "code",
      "execution_count": null,
      "metadata": {
        "colab": {
          "base_uri": "https://localhost:8080/"
        },
        "id": "bM9ALF1k0CKz",
        "outputId": "7058f162-2ea2-4bb3-d6a2-422e358a8dc0"
      },
      "outputs": [
        {
          "output_type": "stream",
          "name": "stdout",
          "text": [
            "apple\n",
            "grapefruit\n"
          ]
        }
      ],
      "source": [
        "# Create a list of fruits\n",
        "fruits = ['apple', 'banana', 'orange', 'mango', 'grapefruit']\n",
        "\n",
        "# Print the first item\n",
        "print(fruits[0])\n",
        "\n",
        "# Print the last item\n",
        "print(fruits[-1])"
      ]
    },
    {
      "cell_type": "code",
      "source": [
        "# Create a list of colors\n",
        "colors = ['red', 'green', 'yellow', 'purple', 'black']\n",
        "\n",
        "# Change the second item to \"blue\"\n",
        "colors[1] = 'blue'\n",
        "\n",
        "# Print the updated list\n",
        "print(colors)"
      ],
      "metadata": {
        "colab": {
          "base_uri": "https://localhost:8080/"
        },
        "id": "HzaKlV7G0he3",
        "outputId": "4e0ef78f-ab10-45b0-bb76-a7ca4702a126"
      },
      "execution_count": null,
      "outputs": [
        {
          "output_type": "stream",
          "name": "stdout",
          "text": [
            "['red', 'blue', 'yellow', 'purple', 'black']\n"
          ]
        }
      ]
    },
    {
      "cell_type": "code",
      "source": [
        "# Create a list of numbers\n",
        "numbers = [1, 2, 3, 4, 5]\n",
        "\n",
        "# Add the number 10 at the end of the list\n",
        "numbers.append(10)\n",
        "\n",
        "# Print the updated list\n",
        "print(numbers)"
      ],
      "metadata": {
        "colab": {
          "base_uri": "https://localhost:8080/"
        },
        "id": "rGduuz5E1R9N",
        "outputId": "8f79a2d2-b0db-4051-fc79-f373022fd695"
      },
      "execution_count": null,
      "outputs": [
        {
          "output_type": "stream",
          "name": "stdout",
          "text": [
            "[1, 2, 3, 4, 5, 10]\n"
          ]
        }
      ]
    },
    {
      "cell_type": "code",
      "source": [
        "# Create a list of animals\n",
        "animals = ['cat', 'dog', 'elephant', 'tiger', 'lion']\n",
        "\n",
        "# Remove the third item from the list\n",
        "animals.pop(2)\n",
        "\n",
        "# Print the updated list\n",
        "print(animals)"
      ],
      "metadata": {
        "colab": {
          "base_uri": "https://localhost:8080/"
        },
        "id": "IyW5-phU1lsg",
        "outputId": "4501d410-c1d5-4fa9-ddd8-86ad93744aa2"
      },
      "execution_count": null,
      "outputs": [
        {
          "output_type": "stream",
          "name": "stdout",
          "text": [
            "['cat', 'dog', 'tiger', 'lion']\n"
          ]
        }
      ]
    },
    {
      "cell_type": "code",
      "source": [
        "# Create a list of cities\n",
        "cities = ['London', 'Paris', 'New York', 'Tokyo', 'Sydney']\n",
        "\n",
        "# Loop through the list and print each city\n",
        "for city in cities:\n",
        "  print(city)\n"
      ],
      "metadata": {
        "colab": {
          "base_uri": "https://localhost:8080/"
        },
        "id": "pQ6qexS61tP7",
        "outputId": "fb74a053-e6da-4066-f938-3e66805716e3"
      },
      "execution_count": null,
      "outputs": [
        {
          "output_type": "stream",
          "name": "stdout",
          "text": [
            "London\n",
            "Paris\n",
            "New York\n",
            "Tokyo\n",
            "Sydney\n"
          ]
        }
      ]
    },
    {
      "cell_type": "code",
      "source": [
        "# Create a list of numbers from 1 to 10\n",
        "numbers = list(range(1, 11))\n",
        "\n",
        "# Create a new list containing the square of each number using list comprehension\n",
        "squared_numbers = [number ** 2 for number in numbers]\n",
        "\n",
        "# Print the new list\n",
        "print(squared_numbers)"
      ],
      "metadata": {
        "colab": {
          "base_uri": "https://localhost:8080/"
        },
        "id": "WVAwcZ-M2nRH",
        "outputId": "282b245f-8c12-423f-b28c-ab11ab036b38"
      },
      "execution_count": null,
      "outputs": [
        {
          "output_type": "stream",
          "name": "stdout",
          "text": [
            "[1, 4, 9, 16, 25, 36, 49, 64, 81, 100]\n"
          ]
        }
      ]
    },
    {
      "cell_type": "code",
      "source": [
        "# Create a list of names\n",
        "names = ['Azeem', 'noman', 'Bilal', 'laiba', 'rabia']\n",
        "\n",
        "# Sort the list alphabetically\n",
        "names.sort()\n",
        "\n",
        "# Print the sorted list\n",
        "print(names)"
      ],
      "metadata": {
        "colab": {
          "base_uri": "https://localhost:8080/"
        },
        "id": "RCbhpvxJ27hZ",
        "outputId": "7c55f594-cc65-44f3-d3fa-76ffaa3bbf34"
      },
      "execution_count": null,
      "outputs": [
        {
          "output_type": "stream",
          "name": "stdout",
          "text": [
            "['Azeem', 'Bilal', 'laiba', 'noman', 'rabia']\n"
          ]
        }
      ]
    },
    {
      "cell_type": "code",
      "source": [
        "# Create a list of fruits\n",
        "fruits = ['apple', 'banana', 'orange', 'mango', 'grapefruit']\n",
        "\n",
        "# Copy the list into a new list\n",
        "fruits_copy = fruits.copy()\n",
        "\n",
        "# Print the new list\n",
        "print(fruits_copy)"
      ],
      "metadata": {
        "colab": {
          "base_uri": "https://localhost:8080/"
        },
        "id": "H8nfxr3s3eiQ",
        "outputId": "6b171023-bb86-4b66-e8a4-285e5a6dee11"
      },
      "execution_count": null,
      "outputs": [
        {
          "output_type": "stream",
          "name": "stdout",
          "text": [
            "['apple', 'banana', 'orange', 'mango', 'grapefruit']\n"
          ]
        }
      ]
    },
    {
      "cell_type": "code",
      "source": [
        "# Create two lists of numbers\n",
        "list1 = [1, 2, 3, 4, 5]\n",
        "list2 = [6, 7, 8, 9, 10]\n",
        "\n",
        "# Join the two lists into a single list\n",
        "combined_list = list1 + list2\n",
        "\n",
        "# Print the combined list\n",
        "print(combined_list)"
      ],
      "metadata": {
        "colab": {
          "base_uri": "https://localhost:8080/"
        },
        "id": "Ozr24gM14LDY",
        "outputId": "cae50571-9c65-4612-e77f-16543e2db9ae"
      },
      "execution_count": null,
      "outputs": [
        {
          "output_type": "stream",
          "name": "stdout",
          "text": [
            "[1, 2, 3, 4, 5, 6, 7, 8, 9, 10]\n"
          ]
        }
      ]
    },
    {
      "cell_type": "code",
      "source": [
        "# Create a list of fruits\n",
        "fruits = ['apple', 'banana', 'orange', 'mango']\n",
        "\n",
        "# Use the append() method to add a new fruit to the list\n",
        "fruits.append('grapefruit')\n",
        "\n",
        "# Use the pop() method to remove the last fruit from the list\n",
        "fruits.pop()\n",
        "\n",
        "# Print the updated list\n",
        "print(fruits)"
      ],
      "metadata": {
        "colab": {
          "base_uri": "https://localhost:8080/"
        },
        "id": "I3uYKb0t4OmS",
        "outputId": "8dbf2c6d-0d24-4c05-c96e-6744239ad01e"
      },
      "execution_count": null,
      "outputs": [
        {
          "output_type": "stream",
          "name": "stdout",
          "text": [
            "['apple', 'banana', 'orange', 'mango']\n"
          ]
        }
      ]
    },
    {
      "cell_type": "code",
      "source": [
        "# Create two lists\n",
        "list1 = [1, 2, 3, 4, 5]\n",
        "list2 = [6, 7, 8, 9, 10]\n",
        "\n",
        "# Create a new list using list comprehension to sum corresponding elements\n",
        "summed_list = [x + y for x, y in zip(list1, list2)]\n",
        "\n",
        "# Print the new list\n",
        "print(summed_list)"
      ],
      "metadata": {
        "colab": {
          "base_uri": "https://localhost:8080/"
        },
        "id": "wOBxBPez5hfy",
        "outputId": "3cf11842-5099-40ad-8cee-7fa440ade541"
      },
      "execution_count": null,
      "outputs": [
        {
          "output_type": "stream",
          "name": "stdout",
          "text": [
            "[7, 9, 11, 13, 15]\n"
          ]
        }
      ]
    },
    {
      "cell_type": "code",
      "source": [
        "# Create a list of numbers\n",
        "numbers = [1, 2, 3, 4, 5, 6, 7, 8, 9, 10]\n",
        "\n",
        "# Create a new list containing only the even numbers using list comprehension\n",
        "even_numbers = [number for number in numbers if number % 2 == 0]\n",
        "\n",
        "# Sort the new list in descending order\n",
        "even_numbers.sort(reverse=True)\n",
        "\n",
        "# Print the new list\n",
        "print(even_numbers)"
      ],
      "metadata": {
        "colab": {
          "base_uri": "https://localhost:8080/"
        },
        "id": "SoMgdz_F5niR",
        "outputId": "876ed053-cf3b-4207-e5e9-32c768c4eab6"
      },
      "execution_count": null,
      "outputs": [
        {
          "output_type": "stream",
          "name": "stdout",
          "text": [
            "[10, 8, 6, 4, 2]\n"
          ]
        }
      ]
    },
    {
      "cell_type": "code",
      "source": [
        "# Create a list of numbers from 1 to 10\n",
        "numbers = list(range(1, 11))\n",
        "\n",
        "# Create a new list containing only the even numbers in reverse order using list slicing\n",
        "even_numbers_reversed = numbers[::2][::-1]\n",
        "\n",
        "# Print the new list\n",
        "print(even_numbers_reversed)"
      ],
      "metadata": {
        "colab": {
          "base_uri": "https://localhost:8080/"
        },
        "id": "tqTOpYfP5-6x",
        "outputId": "b16d3f09-fe0b-4edd-bee2-a25c7ea7d4a7"
      },
      "execution_count": null,
      "outputs": [
        {
          "output_type": "stream",
          "name": "stdout",
          "text": [
            "[9, 7, 5, 3, 1]\n"
          ]
        }
      ]
    },
    {
      "cell_type": "code",
      "source": [
        "# Create two lists\n",
        "even_numbers = [2, 4, 6, 8, 10]\n",
        "odd_numbers = [1, 3, 5, 7, 9]\n",
        "\n",
        "# Combine the two lists into a single list, alternating between even and odd numbers\n",
        "combined_list = []\n",
        "for i in range(len(even_numbers)):\n",
        "    combined_list.append(even_numbers[i])\n",
        "    combined_list.append(odd_numbers[i])\n",
        "\n",
        "# Print the combined list\n",
        "print(combined_list)"
      ],
      "metadata": {
        "colab": {
          "base_uri": "https://localhost:8080/"
        },
        "id": "oQMiQffc6Iap",
        "outputId": "bb4d4ba1-5c08-4e83-ad80-ad1b1922751c"
      },
      "execution_count": null,
      "outputs": [
        {
          "output_type": "stream",
          "name": "stdout",
          "text": [
            "[2, 1, 4, 3, 6, 5, 8, 7, 10, 9]\n"
          ]
        }
      ]
    }
  ]
}
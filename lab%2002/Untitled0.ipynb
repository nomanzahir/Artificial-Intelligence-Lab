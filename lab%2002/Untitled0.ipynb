{
  "nbformat": 4,
  "nbformat_minor": 0,
  "metadata": {
    "colab": {
      "provenance": [],
      "authorship_tag": "ABX9TyM5CpdM2caen/M2+04V+EbQ",
      "include_colab_link": true
    },
    "kernelspec": {
      "name": "python3",
      "display_name": "Python 3"
    },
    "language_info": {
      "name": "python"
    }
  },
  "cells": [
    {
      "cell_type": "markdown",
      "metadata": {
        "id": "view-in-github",
        "colab_type": "text"
      },
      "source": [
        "<a href=\"https://colab.research.google.com/github/nomanzahir/Artificial-Intelligence-Lab/blob/main/lab%252002/Untitled0.ipynb\" target=\"_parent\"><img src=\"https://colab.research.google.com/assets/colab-badge.svg\" alt=\"Open In Colab\"/></a>"
      ]
    },
    {
      "cell_type": "code",
      "execution_count": null,
      "metadata": {
        "id": "Z1cY3yCA5GDM"
      },
      "outputs": [],
      "source": []
    },
    {
      "cell_type": "markdown",
      "source": [
        "**TASK NO 1**\n"
      ],
      "metadata": {
        "id": "0SQQAxa55NmC"
      }
    },
    {
      "cell_type": "code",
      "source": [
        "#Int Data Type Example\n",
        "d=22\n",
        "f=11\n",
        "g=55\n",
        "h=23\n",
        "i=65\n",
        "print(d,f,g,h,i)\n",
        "print(type(d))\n",
        "print(type(f))\n",
        "print(type(g))\n",
        "print(type(h))\n",
        "print(type(i))"
      ],
      "metadata": {
        "colab": {
          "base_uri": "https://localhost:8080/"
        },
        "id": "ge0ZKtGc5Zsy",
        "outputId": "c6fa1b2d-d6bb-4420-b3f4-05e38af96e6b"
      },
      "execution_count": 12,
      "outputs": [
        {
          "output_type": "stream",
          "name": "stdout",
          "text": [
            "22 11 55 23 65\n",
            "<class 'int'>\n",
            "<class 'int'>\n",
            "<class 'int'>\n",
            "<class 'int'>\n",
            "<class 'int'>\n"
          ]
        }
      ]
    },
    {
      "cell_type": "code",
      "source": [
        "#float Data Type\n",
        "a=11.1\n",
        "b=22.1\n",
        "g=54.1\n",
        "j=22.1\n",
        "l=22.1\n",
        "print(a,b,g,j,i)\n",
        "print(type(a))\n",
        "print(type(b))\n",
        "print(type(g))\n",
        "print(type(j))\n",
        "print(type(l))"
      ],
      "metadata": {
        "colab": {
          "base_uri": "https://localhost:8080/"
        },
        "id": "6vtHbRQQ56Tt",
        "outputId": "fcef3ea2-038f-4fa9-9eea-bc6b2c96074d"
      },
      "execution_count": 13,
      "outputs": [
        {
          "output_type": "stream",
          "name": "stdout",
          "text": [
            "11.1 22.1 54.1 22.1 65\n",
            "<class 'float'>\n",
            "<class 'float'>\n",
            "<class 'float'>\n",
            "<class 'float'>\n",
            "<class 'float'>\n"
          ]
        }
      ]
    },
    {
      "cell_type": "code",
      "source": [
        "#complex Data type\n",
        "d=22+8j\n",
        "f=11+2j\n",
        "g=55j\n",
        "h=23j\n",
        "i=65+8j\n",
        "print(d,f,g,h,i)\n",
        "print(type(i))\n",
        "print(type(d))\n",
        "print(type(f))\n",
        "print(type(g))\n",
        "print(type(h))\n"
      ],
      "metadata": {
        "colab": {
          "base_uri": "https://localhost:8080/"
        },
        "id": "T6t2dozf6wJL",
        "outputId": "6d90d25b-6ac2-41f4-c419-143e5f196826"
      },
      "execution_count": 14,
      "outputs": [
        {
          "output_type": "stream",
          "name": "stdout",
          "text": [
            "(22+8j) (11+2j) 55j 23j (65+8j)\n",
            "<class 'complex'>\n",
            "<class 'complex'>\n",
            "<class 'complex'>\n",
            "<class 'complex'>\n",
            "<class 'complex'>\n"
          ]
        }
      ]
    },
    {
      "cell_type": "markdown",
      "source": [
        "TASK NO **2**"
      ],
      "metadata": {
        "id": "CXPVnura81wq"
      }
    },
    {
      "cell_type": "code",
      "source": [
        "#String to Integer\n",
        "a = '10'\n",
        "b = int(a)\n",
        "print(b)  # Output: 10"
      ],
      "metadata": {
        "colab": {
          "base_uri": "https://localhost:8080/"
        },
        "id": "AGmOVV1685Qc",
        "outputId": "21f08078-c922-4a30-88f5-a5e9ef0c1d1a"
      },
      "execution_count": 15,
      "outputs": [
        {
          "output_type": "stream",
          "name": "stdout",
          "text": [
            "10\n"
          ]
        }
      ]
    },
    {
      "cell_type": "code",
      "source": [
        "#Integer to Float:\n",
        "a = 10\n",
        "b = float(a)\n",
        "print(b)  # Output: 10.0"
      ],
      "metadata": {
        "colab": {
          "base_uri": "https://localhost:8080/"
        },
        "id": "c7v76RJQ8bDT",
        "outputId": "8a9bce1e-3637-4dc2-d844-fc0ffdc5419d"
      },
      "execution_count": 16,
      "outputs": [
        {
          "output_type": "stream",
          "name": "stdout",
          "text": [
            "10.0\n"
          ]
        }
      ]
    },
    {
      "cell_type": "code",
      "source": [
        "#Float to String:\n",
        "a = 10.1\n",
        "b = str(a)\n",
        "print(b)  # Output: '10.1'"
      ],
      "metadata": {
        "colab": {
          "base_uri": "https://localhost:8080/"
        },
        "id": "nyWPH-Wo_XwG",
        "outputId": "e0b4e416-8e00-4244-f5b0-180d2ec0ddde"
      },
      "execution_count": 17,
      "outputs": [
        {
          "output_type": "stream",
          "name": "stdout",
          "text": [
            "10.1\n"
          ]
        }
      ]
    },
    {
      "cell_type": "code",
      "source": [],
      "metadata": {
        "id": "7_vYvtHI_fGl"
      },
      "execution_count": null,
      "outputs": []
    },
    {
      "cell_type": "markdown",
      "source": [
        "TASK NO 3"
      ],
      "metadata": {
        "id": "lfRoVQPa_j-O"
      }
    },
    {
      "cell_type": "code",
      "source": [
        "#Assign multiple strings to single variable\n",
        "details = \"\"\"\n",
        "Name: NOHMAN ZAHIR\n",
        "Registration Number: 1234567890\n",
        "Program: Computer Science\n",
        "Semester: 5\n",
        "\"\"\"\n",
        "\n",
        "print(details)"
      ],
      "metadata": {
        "colab": {
          "base_uri": "https://localhost:8080/"
        },
        "id": "xB8DXAsG_2lV",
        "outputId": "6dda5872-b7cc-4c50-a990-e969cac14f04"
      },
      "execution_count": 19,
      "outputs": [
        {
          "output_type": "stream",
          "name": "stdout",
          "text": [
            "\n",
            "Name: NOHMAN ZAHIR\n",
            "Registration Number: 1234567890\n",
            "Program: Computer Science\n",
            "Semester: 5\n",
            "\n"
          ]
        }
      ]
    },
    {
      "cell_type": "markdown",
      "source": [
        "TASK NO 4"
      ],
      "metadata": {
        "id": "JcMHI9Q3AL8n"
      }
    },
    {
      "cell_type": "code",
      "source": [
        "#access the last 3 characters\n",
        "country = \"India\"\n",
        "last_3_chars = country[-3:]\n",
        "print(last_3_chars)\n"
      ],
      "metadata": {
        "colab": {
          "base_uri": "https://localhost:8080/"
        },
        "id": "CLShVuZpApaU",
        "outputId": "a5d6a9a1-2da2-4113-91e8-9350fb6c5431"
      },
      "execution_count": 20,
      "outputs": [
        {
          "output_type": "stream",
          "name": "stdout",
          "text": [
            "dia\n"
          ]
        }
      ]
    },
    {
      "cell_type": "code",
      "source": [],
      "metadata": {
        "id": "7PhyRsErAyuJ"
      },
      "execution_count": null,
      "outputs": []
    },
    {
      "cell_type": "markdown",
      "source": [
        "TASK NO 5"
      ],
      "metadata": {
        "id": "cSnTONBeA2Dc"
      }
    },
    {
      "cell_type": "code",
      "source": [
        "#using len() function\n",
        "string = \"Hello World\"\n",
        "string_with_spaces = \"Hello World \"\n",
        "\n",
        "print(f\"Length of 'Hello World': {len(string)}\")\n",
        "print(f\"Length of 'Hello World ': {len(string_with_spaces)}\")"
      ],
      "metadata": {
        "colab": {
          "base_uri": "https://localhost:8080/"
        },
        "id": "LJfLQ-5yBWtZ",
        "outputId": "ca24b638-80ec-4c93-e5ae-9be6f1a9dbc7"
      },
      "execution_count": 21,
      "outputs": [
        {
          "output_type": "stream",
          "name": "stdout",
          "text": [
            "Length of 'Hello World': 11\n",
            "Length of 'Hello World ': 12\n"
          ]
        }
      ]
    },
    {
      "cell_type": "markdown",
      "source": [
        "**TASK NO 6**"
      ],
      "metadata": {
        "id": "wWRbFQ-4E7SO"
      }
    },
    {
      "cell_type": "code",
      "source": [
        "#ccess the 2nd and 3rd character\n",
        "my_name = \"Nohman\"\n",
        "\n",
        "second_last_char = my_name[-2]\n",
        "third_last_char = my_name[-3]\n",
        "\n",
        "print(f\"Second last character: {second_last_char}\")\n",
        "print(f\"Third last character: {third_last_char}\")"
      ],
      "metadata": {
        "colab": {
          "base_uri": "https://localhost:8080/"
        },
        "id": "qqMS-YmWBql-",
        "outputId": "d16ad319-d9e3-4389-c6ed-702d17bb4515"
      },
      "execution_count": 23,
      "outputs": [
        {
          "output_type": "stream",
          "name": "stdout",
          "text": [
            "Second last character: a\n",
            "Third last character: m\n"
          ]
        }
      ]
    },
    {
      "cell_type": "markdown",
      "source": [
        "TASK NO 7"
      ],
      "metadata": {
        "id": "VGojco3yFEpi"
      }
    },
    {
      "cell_type": "code",
      "source": [
        "#With index numbers:\n",
        "name = 'NOHMAN'\n",
        "age = 30\n",
        "city = 'PAKISTAN'\n",
        "\n",
        "text = \"My name is {0}, I am {1} years old and I live in {2}\".format(name, age, city)\n",
        "\n",
        "print(text)\n",
        "\n"
      ],
      "metadata": {
        "colab": {
          "base_uri": "https://localhost:8080/"
        },
        "id": "j5rmh014FJsQ",
        "outputId": "16bca698-4eba-4b59-fd50-c21dcd79d606"
      },
      "execution_count": 26,
      "outputs": [
        {
          "output_type": "stream",
          "name": "stdout",
          "text": [
            "My name is NOHMAN, I am 30 years old and I live in PAKISTAN\n"
          ]
        }
      ]
    },
    {
      "cell_type": "code",
      "source": [
        "#Without index numbers:\n",
        "name = 'NOHMAN'\n",
        "age = 30\n",
        "city = 'PAKISTAN'\n",
        "\n",
        "text = \"My name is {}, I am {} years old and I live in {}\".format(name, age, city)\n",
        "\n",
        "print(text)"
      ],
      "metadata": {
        "colab": {
          "base_uri": "https://localhost:8080/"
        },
        "id": "F_tZILvfF1y_",
        "outputId": "c21669e8-c160-453f-ca0e-39d3dff1dc0f"
      },
      "execution_count": 27,
      "outputs": [
        {
          "output_type": "stream",
          "name": "stdout",
          "text": [
            "My name is NOHMAN, I am 30 years old and I live in PAKISTAN\n"
          ]
        }
      ]
    },
    {
      "cell_type": "code",
      "source": [],
      "metadata": {
        "id": "LYbtD55_F_Y1"
      },
      "execution_count": null,
      "outputs": []
    },
    {
      "cell_type": "markdown",
      "source": [
        "TASk NO 8"
      ],
      "metadata": {
        "id": "BRsE42aUGK_D"
      }
    },
    {
      "cell_type": "code",
      "source": [
        "# Take input from user\n",
        "name = input(\"Enter your name: \")\n",
        "age = int(input(\"Enter your age: \"))\n",
        "\n",
        "# Display the input\n",
        "print(f\"{name} age is: {age}\")"
      ],
      "metadata": {
        "colab": {
          "base_uri": "https://localhost:8080/"
        },
        "id": "jirtSbxjGXDP",
        "outputId": "8726b83e-81d3-4838-f65b-620662441dab"
      },
      "execution_count": 28,
      "outputs": [
        {
          "output_type": "stream",
          "name": "stdout",
          "text": [
            "Enter your name: NOHMAN\n",
            "Enter your age: 30\n",
            "NOHMAN age is: 30\n"
          ]
        }
      ]
    },
    {
      "cell_type": "code",
      "source": [],
      "metadata": {
        "id": "4ypgUqrKGZnF"
      },
      "execution_count": null,
      "outputs": []
    }
  ]
}